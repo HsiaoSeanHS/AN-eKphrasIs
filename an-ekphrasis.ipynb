{
 "cells": [
  {
   "cell_type": "code",
   "execution_count": null,
   "metadata": {
    "_cell_guid": "b1076dfc-b9ad-4769-8c92-a6c4dae69d19",
    "_uuid": "8f2839f25d086af736a60e9eeb907d3b93b6e0e5",
    "execution": {
     "iopub.execute_input": "2025-10-01T13:44:57.033112Z",
     "iopub.status.busy": "2025-10-01T13:44:57.031530Z",
     "iopub.status.idle": "2025-10-01T13:45:52.580163Z",
     "shell.execute_reply": "2025-10-01T13:45:52.578777Z",
     "shell.execute_reply.started": "2025-10-01T13:44:57.033059Z"
    },
    "trusted": true
   },
   "outputs": [],
   "source": [
    "%pip install selenium-driverless\n",
    "\n",
    "# Installing Chrome on GitHub Actions (Ubuntu)\n",
    "!wget https://dl.google.com/linux/direct/google-chrome-stable_current_amd64.deb\n",
    "!sudo apt install ./google-chrome-stable_current_amd64.deb -y"
   ]
  },
  {
   "cell_type": "code",
   "execution_count": null,
   "metadata": {
    "execution": {
     "iopub.execute_input": "2025-10-01T13:45:52.582661Z",
     "iopub.status.busy": "2025-10-01T13:45:52.582344Z",
     "iopub.status.idle": "2025-10-01T13:45:53.335762Z",
     "shell.execute_reply": "2025-10-01T13:45:53.333472Z",
     "shell.execute_reply.started": "2025-10-01T13:45:52.582632Z"
    },
    "trusted": true
   },
   "outputs": [],
   "source": [
    "import warnings\n",
    "warnings.filterwarnings(\"ignore\", message=\"got execution_context_id and unique_context=True, defaulting to execution_context_id\")\n",
    "\n",
    "import os\n",
    "import time\n",
    "import random\n",
    "import asyncio\n",
    "import requests\n",
    "from datetime import datetime, timedelta, timezone\n",
    "\n",
    "from selenium_driverless import webdriver\n",
    "from selenium_driverless.types.by import By\n",
    "\n",
    "acc = os.environ['ANKI_ACCOUNT']\n",
    "pas = os.environ['ANKI_PASSWORD']\n",
    "bot_token = os.environ.get('TELEGRAM_BOT_TOKEN')\n",
    "chat_id = os.environ.get('TELEGRAM_CHAT_ID')\n",
    "remain = -1"
   ]
  },
  {
   "cell_type": "code",
   "execution_count": null,
   "metadata": {
    "execution": {
     "iopub.execute_input": "2025-10-01T13:45:53.340743Z",
     "iopub.status.busy": "2025-10-01T13:45:53.339741Z",
     "iopub.status.idle": "2025-10-01T13:45:53.361636Z",
     "shell.execute_reply": "2025-10-01T13:45:53.347254Z",
     "shell.execute_reply.started": "2025-10-01T13:45:53.340715Z"
    },
    "trusted": true
   },
   "outputs": [],
   "source": [
    "test = False"
   ]
  },
  {
   "cell_type": "code",
   "execution_count": null,
   "metadata": {
    "execution": {
     "iopub.execute_input": "2025-10-01T13:45:53.363511Z",
     "iopub.status.busy": "2025-10-01T13:45:53.362454Z",
     "iopub.status.idle": "2025-10-01T13:45:53.424850Z",
     "shell.execute_reply": "2025-10-01T13:45:53.423263Z",
     "shell.execute_reply.started": "2025-10-01T13:45:53.363448Z"
    },
    "trusted": true
   },
   "outputs": [],
   "source": [
    "class Selenium:\n",
    "    def __init__(self):\n",
    "        self.driver = None\n",
    "\n",
    "    async def async__init__(self):\n",
    "        options = webdriver.ChromeOptions()\n",
    "        options.add_argument(\"--mute-audio\")\n",
    "        options.add_argument(\"--headless=new\")  # Run in headless mode for GitHub Actions\n",
    "        options.add_argument(\"--no-proxy-server\")\n",
    "        options.add_argument(\"--disable-gpu\")\n",
    "        options.add_argument(\"--disable-dev-shm-usage\")\n",
    "        options.add_argument(\"--disable-features=NetworkService\")\n",
    "        options.add_argument(\"--no-sandbox\")  # Added for GitHub Actions\n",
    "        \n",
    "        options.add_argument(\"--disable-blink-features=AutomationControlled\")\n",
    "        \n",
    "        # Detect environment: GitHub Actions (Ubuntu) vs local (macOS)\n",
    "        # import platform\n",
    "        # if platform.system() == \"Linux\":  # GitHub Actions\n",
    "        options.binary_location = \"/usr/bin/google-chrome\"\n",
    "        chrome_dir = \"/tmp/Chrome\"\n",
    "        # else:  # Local macOS\n",
    "        #     options.binary_location = \"/Applications/Google Chrome.app/Contents/MacOS/Google Chrome\"\n",
    "        #     chrome_dir = \"/Users/hsiao/Chrome\"\n",
    "            \n",
    "        # Create Chrome profile directory\n",
    "        os.makedirs(chrome_dir, exist_ok=True)\n",
    "        \n",
    "        # Set user data directory\n",
    "        options.add_argument(f\"--user-data-dir={chrome_dir}\")\n",
    "\n",
    "        self.driver = await webdriver.Chrome(options=options)\n",
    "        \n",
    "        # await self.driver.delete_all_cookies()\n",
    "        await self.driver.execute_cdp_cmd(\"Emulation.setTimezoneOverride\", {\"timezoneId\": \"Asia/Taipei\"})\n",
    "        await self.driver.execute_cdp_cmd(\"Page.addScriptToEvaluateOnNewDocument\", {\"source\": \"\"\"Object.defineProperty(navigator, 'webdriver', {get: () => undefined})\"\"\"})\n",
    "\n",
    "    async def screenshot(self, filename=\"screenshot.png\"):\n",
    "        await self.driver.save_screenshot(filename)\n",
    "\n",
    "    async def login(self):\n",
    "        while True:\n",
    "            try: \n",
    "                await self.driver.get(\"https://ankiweb.net/account/login\", wait_load=True)\n",
    "                Login = await self.driver.find_element(By.CLASS_NAME, \"btn btn-primary btn-lg\", timeout=1)\n",
    "                svelte = await self.driver.find_elements(By.CLASS_NAME, \"form-control svelte-1ak1s42\")\n",
    "                await svelte[0].send_keys(acc)\n",
    "                await svelte[1].send_keys(pas)\n",
    "                await Login.click()\n",
    "                break\n",
    "            except: \n",
    "                await self.driver.sleep(1)\n",
    "\n",
    "    async def practice(self, target):\n",
    "        while True:\n",
    "            try:\n",
    "                element = await self.driver.find_element(By.XPATH, \"//*[text()='(02)English']\", timeout=1)\n",
    "                await element.click()\n",
    "                break\n",
    "            except: await self.driver.sleep(1)\n",
    "\n",
    "        count = target\n",
    "        while count > 0:\n",
    "            try:\n",
    "                element = await self.driver.find_element(By.XPATH, \"//*[text()='Show Answer']\", timeout=1)\n",
    "                await element.click()\n",
    "                await self.driver.sleep(random.randint(50,60))\n",
    "                while True:\n",
    "                    try:\n",
    "                        btn = await self.driver.find_elements(By.CLASS_NAME, \"btn btn-primary btn-lg m-1\", timeout=1)\n",
    "                        if len(btn) == 4: \n",
    "                            remain = await self.driver.find_element(By.CSS_SELECTOR, 'div.float-end')\n",
    "                            remain = await remain.text\n",
    "                            remain = remain.replace(\"\\n\", \"\")\n",
    "                            goodtime = await self.driver.find_element(By.XPATH, '//*[@id=\"ansarea\"]/div/div[3]/div')\n",
    "                            goodtime = await goodtime.text\n",
    "                            if goodtime == \"10m\":\n",
    "                                await btn[2].click()\n",
    "                                print(f\"G 10m({remain}){count}\")\n",
    "                            elif goodtime == \"01d\":\n",
    "                                await btn[2].click()\n",
    "                                print(f\"G 01d({remain}){count}\")\n",
    "                            else:\n",
    "                                R = random.random()\n",
    "                                if R <= 0.3:\n",
    "                                    await btn[2].click()\n",
    "                                    print(f\"G ran({remain}){count}\")\n",
    "                                elif R <= 0.6:\n",
    "                                    await btn[1].click()\n",
    "                                    print(f\"H ran({remain}){count}\")\n",
    "                                else:\n",
    "                                    await btn[0].click()\n",
    "                                    print(f\"A ran({remain}){count}\")\n",
    "                            count -= 1\n",
    "                            break\n",
    "                    except: await self.driver.sleep(1)\n",
    "            except: await self.driver.sleep(1)\n",
    "        await self.driver.quit()"
   ]
  },
  {
   "cell_type": "code",
   "execution_count": null,
   "metadata": {},
   "outputs": [],
   "source": [
    "def send_telegram_notification(cards_completed, start_time, end_time):\n",
    "    \"\"\"Send a 'Done' notification to Telegram when practice is completed\"\"\"\n",
    "    try:\n",
    "        if not bot_token or not chat_id:\n",
    "            print(\"Telegram bot token or chat ID not configured. Skipping notification.\")\n",
    "            return False\n",
    "        \n",
    "        # Calculate duration\n",
    "        duration = end_time - start_time\n",
    "        duration_str = str(duration).split('.')[0]  # Remove microseconds\n",
    "        \n",
    "        # Create the message\n",
    "        if cards_completed == 0:\n",
    "            message = f\"Error. Check https://github.com/HsiaoSeanHS/AN-eKphrasIs/actions for more details.\"\n",
    "        else:\n",
    "            message = f\"Done. {cards_completed} cards at {end_time.strftime('%m-%d %H:%M')}\"\n",
    "\n",
    "        # Send the notification\n",
    "        telegram_url = f\"https://api.telegram.org/bot{bot_token}/sendMessage\"\n",
    "        payload = {\n",
    "            'chat_id': chat_id,\n",
    "            'text': message,\n",
    "            'parse_mode': 'Markdown',\n",
    "            'disable_web_page_preview': True\n",
    "        }\n",
    "        \n",
    "        response = requests.post(telegram_url, json=payload, timeout=10)\n",
    "        response_data = response.json()\n",
    "        \n",
    "        if response_data.get('ok'):\n",
    "            print(\"Telegram 'Done' notification sent successfully\")\n",
    "            return True\n",
    "        else:\n",
    "            print(f\"Telegram notification failed: {response_data.get('description', 'Unknown error')}\")\n",
    "            return False\n",
    "            \n",
    "    except Exception as e:\n",
    "        print(f\"Error sending Telegram notification: {e}\")\n",
    "        return False"
   ]
  },
  {
   "cell_type": "code",
   "execution_count": null,
   "metadata": {
    "execution": {
     "iopub.execute_input": "2025-10-01T13:45:53.427330Z",
     "iopub.status.busy": "2025-10-01T13:45:53.426938Z",
     "iopub.status.idle": "2025-10-01T13:46:29.615990Z",
     "shell.execute_reply": "2025-10-01T13:46:29.614900Z",
     "shell.execute_reply.started": "2025-10-01T13:45:53.427295Z"
    },
    "trusted": true
   },
   "outputs": [],
   "source": [
    "if test:\n",
    "    random_Q = 5\n",
    "else:\n",
    "    random_Q = random.randint(20, 60)\n",
    "\n",
    "start_time = datetime.now(timezone(timedelta(hours=8)))\n",
    "print(f\"Starting at {start_time.strftime('%Y-%m-%d %H:%M:%S')}\")\n",
    "print(f\"{random_Q} cards\")\n",
    "\n",
    "sln = Selenium()\n",
    "try:\n",
    "    await sln.async__init__()\n",
    "    await sln.login()\n",
    "    await sln.practice(random_Q)\n",
    "    practice_completed = True\n",
    "except Exception as e:\n",
    "    print(f\"Error running AnkiWeb automation: {e}\")\n",
    "    practice_completed = False\n",
    "finally:\n",
    "    end_time = datetime.now(timezone(timedelta(hours=8)))\n",
    "    print(f\"Finished at {end_time.strftime('%m-%d %H:%M')}\")\n",
    "    send_telegram_notification(random_Q if practice_completed else 0, start_time, end_time)"
   ]
  }
 ],
 "metadata": {
  "kaggle": {
   "accelerator": "none",
   "dataSources": [
    {
     "datasetId": 8357649,
     "sourceId": 13195604,
     "sourceType": "datasetVersion"
    },
    {
     "datasetId": 8384115,
     "sourceId": 13227059,
     "sourceType": "datasetVersion"
    }
   ],
   "dockerImageVersionId": 31089,
   "isGpuEnabled": false,
   "isInternetEnabled": true,
   "language": "python",
   "sourceType": "notebook"
  },
  "kernelspec": {
   "display_name": "3.10.11",
   "language": "python",
   "name": "python3"
  },
  "language_info": {
   "codemirror_mode": {
    "name": "ipython",
    "version": 3
   },
   "file_extension": ".py",
   "mimetype": "text/x-python",
   "name": "python",
   "nbconvert_exporter": "python",
   "pygments_lexer": "ipython3",
   "version": "3.10.11"
  }
 },
 "nbformat": 4,
 "nbformat_minor": 4
}
